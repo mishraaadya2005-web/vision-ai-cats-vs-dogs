{
 "cells": [
  {
   "cell_type": "markdown",
   "id": "33b7343f",
   "metadata": {},
   "source": [
    "\n",
    "# Vision AI — Cats vs Dogs \n",
    "\n",
    "\n",
    "\n"
   ]
  },
  {
   "cell_type": "markdown",
   "id": "4a50cd98",
   "metadata": {},
   "source": [
    "## 1) Setup"
   ]
  },
  {
   "cell_type": "code",
   "execution_count": null,
   "id": "eac3842f",
   "metadata": {},
   "outputs": [],
   "source": [
    "\n",
    "import os, sys, math, itertools, pathlib, time\n",
    "import numpy as np\n",
    "import tensorflow as tf\n",
    "from tensorflow import keras\n",
    "from tensorflow.keras import layers\n",
    "import matplotlib.pyplot as plt\n",
    "\n",
    "!pip -q install -U tensorflow-datasets scikit-learn\n",
    "import tensorflow_datasets as tfds\n",
    "from sklearn.metrics import classification_report, confusion_matrix, roc_curve, auc\n",
    "\n",
    "print(\"TensorFlow:\", tf.__version__)\n",
    "print(\"TF GPU available:\", tf.config.list_physical_devices('GPU'))\n"
   ]
  },
  {
   "cell_type": "markdown",
   "id": "7085e8cb",
   "metadata": {},
   "source": [
    "## 2) Dataset — Cats vs Dogs (TFDS)"
   ]
  },
  {
   "cell_type": "code",
   "execution_count": null,
   "id": "c88ef073",
   "metadata": {},
   "outputs": [],
   "source": [
    "\n",
    "IMG_SIZE = 224\n",
    "BATCH = 32\n",
    "SEED = 42\n",
    "\n",
    "(raw_train, raw_val, raw_test), ds_info = tfds.load(\n",
    "    \"cats_vs_dogs\",\n",
    "    split=[\"train[:80%]\", \"train[80%:90%]\", \"train[90%:]\"],\n",
    "    as_supervised=True,\n",
    "    with_info=True\n",
    ")\n",
    "\n",
    "NUM_CLASSES = ds_info.features[\"label\"].num_classes\n",
    "CLASS_NAMES = ds_info.features[\"label\"].names\n",
    "print(\"Classes:\", CLASS_NAMES, \"| Train/Val/Test sizes:\", \n",
    "      tf.data.experimental.cardinality(raw_train).numpy(),\n",
    "      tf.data.experimental.cardinality(raw_val).numpy(),\n",
    "      tf.data.experimental.cardinality(raw_test).numpy())\n"
   ]
  },
  {
   "cell_type": "markdown",
   "id": "c5cf0292",
   "metadata": {},
   "source": [
    "## 3) Preprocessing & Visualisation"
   ]
  },
  {
   "cell_type": "code",
   "execution_count": null,
   "id": "fc2250cf",
   "metadata": {},
   "outputs": [],
   "source": [
    "\n",
    "def format_example(image, label):\n",
    "    image = tf.image.resize(image, (IMG_SIZE, IMG_SIZE))\n",
    "    image = tf.cast(image, tf.float32) / 255.0\n",
    "    return image, label\n",
    "\n",
    "train = raw_train.map(format_example, num_parallel_calls=tf.data.AUTOTUNE)\n",
    "val   = raw_val.map(format_example, num_parallel_calls=tf.data.AUTOTUNE)\n",
    "test  = raw_test.map(format_example, num_parallel_calls=tf.data.AUTOTUNE)\n",
    "\n",
    "def prepare(ds, shuffle=False):\n",
    "    if shuffle:\n",
    "        ds = ds.shuffle(2048, seed=SEED, reshuffle_each_iteration=True)\n",
    "    ds = ds.batch(BATCH).prefetch(tf.data.AUTOTUNE)\n",
    "    return ds\n",
    "\n",
    "train_ds = prepare(train, shuffle=True)\n",
    "val_ds   = prepare(val)\n",
    "test_ds  = prepare(test)\n",
    "\n",
    "# Visualize a few samples\n",
    "plt.figure(figsize=(8,8))\n",
    "for i, (img, label) in enumerate(train.take(9).unbatch()):\n",
    "    ax = plt.subplot(3,3,i+1)\n",
    "    plt.imshow(img.numpy())\n",
    "    plt.title(CLASS_NAMES[int(label.numpy())])\n",
    "    plt.axis(\"off\")\n",
    "plt.show()\n"
   ]
  },
  {
   "cell_type": "markdown",
   "id": "fe249d9b",
   "metadata": {},
   "source": [
    "## 4) Data Augmentation"
   ]
  },
  {
   "cell_type": "code",
   "execution_count": null,
   "id": "58d32576",
   "metadata": {},
   "outputs": [],
   "source": [
    "\n",
    "data_augmentation = keras.Sequential([\n",
    "    layers.RandomFlip(\"horizontal\"),\n",
    "    layers.RandomRotation(0.1),\n",
    "    layers.RandomZoom(0.1),\n",
    "], name=\"augmentation\")\n"
   ]
  },
  {
   "cell_type": "markdown",
   "id": "f5987fe2",
   "metadata": {},
   "source": [
    "## 5) Baseline CNN (from scratch)"
   ]
  },
  {
   "cell_type": "code",
   "execution_count": null,
   "id": "2e4b7e3f",
   "metadata": {},
   "outputs": [],
   "source": [
    "\n",
    "def build_baseline(input_shape=(IMG_SIZE, IMG_SIZE, 3)):\n",
    "    inputs = layers.Input(shape=input_shape)\n",
    "    x = data_augmentation(inputs)\n",
    "    x = layers.Conv2D(32, 3, activation=\"relu\")(x)\n",
    "    x = layers.MaxPooling2D()(x)\n",
    "    x = layers.Conv2D(64, 3, activation=\"relu\")(x)\n",
    "    x = layers.MaxPooling2D()(x)\n",
    "    x = layers.Conv2D(128, 3, activation=\"relu\")(x)\n",
    "    x = layers.MaxPooling2D()(x)\n",
    "    x = layers.Flatten()(x)\n",
    "    x = layers.Dropout(0.3)(x)\n",
    "    x = layers.Dense(128, activation=\"relu\")(x)\n",
    "    outputs = layers.Dense(1, activation=\"sigmoid\")(x)  # binary classification\n",
    "    model = keras.Model(inputs, outputs, name=\"baseline_cnn\")\n",
    "    model.compile(\n",
    "        optimizer=keras.optimizers.Adam(1e-3),\n",
    "        loss=\"binary_crossentropy\",\n",
    "        metrics=[\"accuracy\"]\n",
    "    )\n",
    "    return model\n",
    "\n",
    "baseline = build_baseline()\n",
    "baseline.summary()\n"
   ]
  },
  {
   "cell_type": "markdown",
   "id": "ff4553ed",
   "metadata": {},
   "source": [
    "### Train Baseline CNN"
   ]
  },
  {
   "cell_type": "code",
   "execution_count": null,
   "id": "4abd4003",
   "metadata": {},
   "outputs": [],
   "source": [
    "\n",
    "ckpt_dir = \"checkpoints\"\n",
    "os.makedirs(ckpt_dir, exist_ok=True)\n",
    "\n",
    "callbacks = [\n",
    "    keras.callbacks.EarlyStopping(patience=5, restore_best_weights=True, monitor=\"val_accuracy\"),\n",
    "    keras.callbacks.ModelCheckpoint(os.path.join(ckpt_dir, \"baseline_best.keras\"), \n",
    "                                    save_best_only=True, monitor=\"val_accuracy\")\n",
    "]\n",
    "\n",
    "hist_baseline = baseline.fit(\n",
    "    train_ds, \n",
    "    validation_data=val_ds,\n",
    "    epochs=20,\n",
    "    callbacks=callbacks\n",
    ")\n"
   ]
  },
  {
   "cell_type": "markdown",
   "id": "8faf8ef4",
   "metadata": {},
   "source": [
    "### Training Curves — Baseline"
   ]
  },
  {
   "cell_type": "code",
   "execution_count": null,
   "id": "bf6ebcbe",
   "metadata": {},
   "outputs": [],
   "source": [
    "\n",
    "def plot_history(history, title=\"Training Curves\"):\n",
    "    h = history.history\n",
    "    plt.figure(figsize=(6,4))\n",
    "    plt.plot(h[\"accuracy\"], label=\"train_acc\")\n",
    "    plt.plot(h[\"val_accuracy\"], label=\"val_acc\")\n",
    "    plt.xlabel(\"Epoch\"); plt.ylabel(\"Accuracy\"); plt.title(title); plt.legend(); plt.show()\n",
    "    \n",
    "    plt.figure(figsize=(6,4))\n",
    "    plt.plot(h[\"loss\"], label=\"train_loss\")\n",
    "    plt.plot(h[\"val_loss\"], label=\"val_loss\")\n",
    "    plt.xlabel(\"Epoch\"); plt.ylabel(\"Loss\"); plt.title(title); plt.legend(); plt.show()\n",
    "\n",
    "plot_history(hist_baseline, \"Baseline CNN\")\n"
   ]
  },
  {
   "cell_type": "markdown",
   "id": "4439495f",
   "metadata": {},
   "source": [
    "## 6) Evaluation Utilities"
   ]
  },
  {
   "cell_type": "code",
   "execution_count": null,
   "id": "a19fef74",
   "metadata": {},
   "outputs": [],
   "source": [
    "\n",
    "def evaluate_model(model, ds, name=\"Model\"):\n",
    "    # Collect predictions and labels\n",
    "    y_true = []\n",
    "    y_prob = []\n",
    "    for batch_images, batch_labels in ds:\n",
    "        y_true.extend(batch_labels.numpy().tolist())\n",
    "        y_prob.extend(model.predict(batch_images, verbose=0).ravel().tolist())\n",
    "    y_true = np.array(y_true)\n",
    "    y_prob = np.array(y_prob)\n",
    "    y_pred = (y_prob >= 0.5).astype(int)\n",
    "\n",
    "    # Metrics\n",
    "    print(f\"\\n{name} — Classification Report:\")\n",
    "    print(classification_report(y_true, y_pred, target_names=CLASS_NAMES, digits=4))\n",
    "\n",
    "    # Confusion Matrix\n",
    "    cm = confusion_matrix(y_true, y_pred)\n",
    "    plt.figure(figsize=(4,4))\n",
    "    plt.imshow(cm, interpolation='nearest')\n",
    "    plt.title(f\"{name} — Confusion Matrix\")\n",
    "    plt.xticks([0,1], CLASS_NAMES); plt.yticks([0,1], CLASS_NAMES)\n",
    "    for i in range(2):\n",
    "        for j in range(2):\n",
    "            plt.text(j, i, cm[i, j], ha=\"center\", va=\"center\")\n",
    "    plt.xlabel(\"Predicted\"); plt.ylabel(\"True\"); plt.colorbar(); plt.show()\n",
    "\n",
    "    # ROC Curve\n",
    "    fpr, tpr, _ = roc_curve(y_true, y_prob)\n",
    "    roc_auc = auc(fpr, tpr)\n",
    "    plt.figure(figsize=(5,4))\n",
    "    plt.plot(fpr, tpr, label=f\"AUC = {roc_auc:.4f}\")\n",
    "    plt.plot([0,1],[0,1],\"--\")\n",
    "    plt.xlabel(\"False Positive Rate\"); plt.ylabel(\"True Positive Rate\")\n",
    "    plt.title(f\"{name} — ROC Curve\"); plt.legend(loc=\"lower right\"); plt.show()\n",
    "\n",
    "    return {\n",
    "        \"accuracy\": (y_true == y_pred).mean(),\n",
    "        \"auc\": roc_auc\n",
    "    }\n",
    "\n",
    "metrics_baseline = evaluate_model(baseline, test_ds, \"Baseline CNN\")\n",
    "print(\"Baseline metrics:\", metrics_baseline)\n"
   ]
  },
  {
   "cell_type": "markdown",
   "id": "104cfc5d",
   "metadata": {},
   "source": [
    "## 7) Transfer Learning — MobileNetV2"
   ]
  },
  {
   "cell_type": "code",
   "execution_count": null,
   "id": "4a4eff91",
   "metadata": {},
   "outputs": [],
   "source": [
    "\n",
    "def build_mobilenet(input_shape=(IMG_SIZE, IMG_SIZE, 3), train_base=False):\n",
    "    base = keras.applications.MobileNetV2(\n",
    "        input_shape=input_shape, include_top=False, weights=\"imagenet\"\n",
    "    )\n",
    "    base.trainable = train_base  # start frozen\n",
    "    inputs = layers.Input(shape=input_shape)\n",
    "    x = data_augmentation(inputs)\n",
    "    x = keras.applications.mobilenet_v2.preprocess_input(x*255.0)  # MobileNet expects [-1,1] via its preprocess\n",
    "    x = base(x, training=False)\n",
    "    x = layers.GlobalAveragePooling2D()(x)\n",
    "    x = layers.Dropout(0.2)(x)\n",
    "    outputs = layers.Dense(1, activation=\"sigmoid\")(x)\n",
    "    model = keras.Model(inputs, outputs, name=\"mobilenetv2_transfer\")\n",
    "    model.compile(\n",
    "        optimizer=keras.optimizers.Adam(1e-3),\n",
    "        loss=\"binary_crossentropy\",\n",
    "        metrics=[\"accuracy\"]\n",
    "    )\n",
    "    return model\n",
    "\n",
    "mobilenet = build_mobilenet()\n",
    "mobilenet.summary()\n",
    "\n",
    "callbacks_tl = [\n",
    "    keras.callbacks.EarlyStopping(patience=5, restore_best_weights=True, monitor=\"val_accuracy\"),\n",
    "    keras.callbacks.ModelCheckpoint(os.path.join(ckpt_dir, \"mobilenet_best.keras\"), \n",
    "                                    save_best_only=True, monitor=\"val_accuracy\")\n",
    "]\n",
    "\n",
    "history_tl = mobilenet.fit(\n",
    "    train_ds,\n",
    "    validation_data=val_ds,\n",
    "    epochs=10,\n",
    "    callbacks=callbacks_tl\n",
    ")\n",
    "\n",
    "# Optional fine-tuning: unfreeze last N layers\n",
    "unfreeze_from = 100\n",
    "mobilenet.get_layer(index=1).trainable = True  # the base model\n",
    "for layer in mobilenet.get_layer(index=1).layers[:unfreeze_from]:\n",
    "    layer.trainable = False\n",
    "\n",
    "mobilenet.compile(optimizer=keras.optimizers.Adam(1e-4),\n",
    "                  loss=\"binary_crossentropy\",\n",
    "                  metrics=[\"accuracy\"])\n",
    "\n",
    "history_ft = mobilenet.fit(\n",
    "    train_ds,\n",
    "    validation_data=val_ds,\n",
    "    epochs=10,\n",
    "    callbacks=callbacks_tl\n",
    ")\n"
   ]
  },
  {
   "cell_type": "markdown",
   "id": "dfa4466a",
   "metadata": {},
   "source": [
    "### Training Curves — Transfer Learning"
   ]
  },
  {
   "cell_type": "code",
   "execution_count": null,
   "id": "c0d4086b",
   "metadata": {},
   "outputs": [],
   "source": [
    "\n",
    "plot_history(history_tl, \"MobileNetV2 (frozen base)\")\n",
    "plot_history(history_ft, \"MobileNetV2 (fine‑tuned)\")\n",
    "\n",
    "metrics_mobilenet = evaluate_model(mobilenet, test_ds, \"MobileNetV2 (fine‑tuned)\")\n",
    "print(\"Transfer learning metrics:\", metrics_mobilenet)\n"
   ]
  },
  {
   "cell_type": "markdown",
   "id": "328e3874",
   "metadata": {},
   "source": [
    "## 8) Compare Models"
   ]
  },
  {
   "cell_type": "code",
   "execution_count": null,
   "id": "ed4eb6ae",
   "metadata": {},
   "outputs": [],
   "source": [
    "\n",
    "print(\"\\n=== Summary ===\")\n",
    "print(\"Baseline — Acc: %.4f  AUC: %.4f\" % (metrics_baseline[\"accuracy\"], metrics_baseline[\"auc\"]))\n",
    "print(\"MobileNetV2 — Acc: %.4f  AUC: %.4f\" % (metrics_mobilenet[\"accuracy\"], metrics_mobilenet[\"auc\"]))\n",
    "best = \"MobileNetV2\" if metrics_mobilenet[\"accuracy\"] >= metrics_baseline[\"accuracy\"] else \"Baseline\"\n",
    "print(\"Best model:\", best)\n"
   ]
  },
  {
   "cell_type": "markdown",
   "id": "796cbacd",
   "metadata": {},
   "source": [
    "## 9) Save Artifacts & Inference Demo"
   ]
  },
  {
   "cell_type": "code",
   "execution_count": null,
   "id": "f03ba9c4",
   "metadata": {},
   "outputs": [],
   "source": [
    "\n",
    "save_dir = \"artifacts\"\n",
    "os.makedirs(save_dir, exist_ok=True)\n",
    "\n",
    "baseline.save(os.path.join(save_dir, \"baseline_cnn.keras\"))\n",
    "mobilenet.save(os.path.join(save_dir, \"mobilenetv2_finetuned.keras\"))\n",
    "\n",
    "# Inference demo: pick a few test images\n",
    "for images, labels in test_ds.take(1):\n",
    "    probs = mobilenet.predict(images).ravel()\n",
    "    preds = (probs >= 0.5).astype(int)\n",
    "    plt.figure(figsize=(10,10))\n",
    "    for i in range(9):\n",
    "        ax = plt.subplot(3,3,i+1)\n",
    "        plt.imshow(images[i].numpy())\n",
    "        t = f\"True: {CLASS_NAMES[int(labels[i])]}\\nPred: {CLASS_NAMES[int(preds[i])]} ({probs[i]:.2f})\"\n",
    "        plt.title(t)\n",
    "        plt.axis(\"off\")\n",
    "    plt.show()\n"
   ]
  }
 ],
 "metadata": {
  "colab": {
   "provenance": []
  },
  "kernelspec": {
   "display_name": "Python 3",
   "name": "python3"
  },
  "language_info": {
   "name": "python"
  }
 },
 "nbformat": 4,
 "nbformat_minor": 0
}
